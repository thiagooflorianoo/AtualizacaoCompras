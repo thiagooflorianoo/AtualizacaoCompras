{
  "nbformat": 4,
  "nbformat_minor": 0,
  "metadata": {
    "colab": {
      "provenance": [],
      "authorship_tag": "ABX9TyNPYHhSjPi9xVWiN8KN2Ssp",
      "include_colab_link": true
    },
    "kernelspec": {
      "name": "python3",
      "display_name": "Python 3"
    },
    "language_info": {
      "name": "python"
    }
  },
  "cells": [
    {
      "cell_type": "markdown",
      "metadata": {
        "id": "view-in-github",
        "colab_type": "text"
      },
      "source": [
        "<a href=\"https://colab.research.google.com/github/thiagooflorianoo/AtualizacaoCompras/blob/main/Exerc%C3%ADcios_Curso_C_.ipynb\" target=\"_parent\"><img src=\"https://colab.research.google.com/assets/colab-badge.svg\" alt=\"Open In Colab\"/></a>"
      ]
    },
    {
      "cell_type": "markdown",
      "source": [
        "**Exercício 1**"
      ],
      "metadata": {
        "id": "dHYqpKZB59vo"
      }
    },
    {
      "cell_type": "code",
      "execution_count": null,
      "metadata": {
        "colab": {
          "base_uri": "https://localhost:8080/"
        },
        "id": "CGiK1t3TQ9wZ",
        "outputId": "8a448bb9-0b13-4a42-a073-6787afb8372b"
      },
      "outputs": [
        {
          "output_type": "stream",
          "name": "stdout",
          "text": [
            "Digite o código da peça 1: 10\n",
            "Informe a quantidade do produto: 2\n",
            "Informe o valor do produto: 5\n",
            "Digite o código da peça 2: 16\n",
            "Informe a quantidade do produto: 4\n",
            "Informe o valor do produto: 7\n",
            "O valor do primeiro produto é R$ 10.0\n",
            "O valor do segundo produto é R$ 28.0\n",
            "O total a pagar é R$ 38.0\n"
          ]
        }
      ],
      "source": [
        "##Exercício 1\n",
        "\n",
        "cod_peca_1 = input(\"Digite o código da peça 1: \")\n",
        "qtde_peca_1 = int(input(\"Informe a quantidade do produto: \"))\n",
        "valor_peca_1 = float(input(\"Informe o valor do produto: \"))\n",
        "\n",
        "cod_peca_2 = input(\"Digite o código da peça 2: \")\n",
        "qtde_peca_2 = int(input(\"Informe a quantidade do produto: \"))\n",
        "valor_peca_2 = float(input(\"Informe o valor do produto: \"))\n",
        "\n",
        "total_peca_1 = qtde_peca_1 * valor_peca_1\n",
        "total_peca_2 = qtde_peca_2 * valor_peca_2\n",
        "valor_total = total_peca_1 + total_peca_2\n",
        "print(f'O valor do primeiro produto é R$',valor_peca_1 * qtde_peca_1)\n",
        "print(f'O valor do segundo produto é R$',valor_peca_2 * qtde_peca_2)\n",
        "print(f'O total a pagar é R$',valor_total)"
      ]
    },
    {
      "cell_type": "markdown",
      "source": [
        "**Exercício 2**\n"
      ],
      "metadata": {
        "id": "KFFSzUyO54VD"
      }
    },
    {
      "cell_type": "code",
      "source": [
        "raio = float(input(\"Informe o raio do círculo: \"))\n",
        "pi = 3.14159\n",
        "\n",
        "print(f'O valor da área do círculo é de: {pi * (raio*raio):.4f}')\n"
      ],
      "metadata": {
        "colab": {
          "base_uri": "https://localhost:8080/"
        },
        "id": "cmiDdqkf5o2n",
        "outputId": "f8d51547-6a42-43a5-8ff4-de927b5b8490"
      },
      "execution_count": 21,
      "outputs": [
        {
          "output_type": "stream",
          "name": "stdout",
          "text": [
            "Informe o raio do círculo: 100.64\n",
            "O valor da área do círculo é de: 31819.3103\n"
          ]
        }
      ]
    },
    {
      "cell_type": "markdown",
      "source": [
        "**Exercício 3**"
      ],
      "metadata": {
        "id": "Pdbd9_z26FAb"
      }
    },
    {
      "cell_type": "code",
      "source": [
        "produtos = [{'codigo': 1,'nome': \"Cachorro quente\", 'valor': 4},\n",
        "            {'codigo': 2,'nome': \"X- salada\", 'valor': 4.5},\n",
        "            {'codigo': 3, 'nome': \"X-bacon\", 'valor': 5},\n",
        "            {'codigo': 4,'nome': \"Torrada\",'valor': 2},\n",
        "            {'codigo': 5, 'nome': \"Refrigerante\",'valor': 1}]\n",
        "\n",
        "codigo = int(input(\"Código do produto: \"))\n",
        "quantidade = int(input(\"Quantidade: \"))\n",
        "\n",
        "for produto in produtos:\n",
        "  if produto['codigo']==codigo:\n",
        "    print(f'Produto encontrado: {produto[\"nome\"]}')\n",
        "    print(f'Valor: {produto[\"valor\"]}')\n",
        "    print(f'Total: {produto[\"valor\"] * quantidade}')\n",
        "    break\n",
        "else:\n",
        "  print(\"Produto não encontrado\")\n"
      ],
      "metadata": {
        "colab": {
          "base_uri": "https://localhost:8080/"
        },
        "id": "9OfLVXVuTNmp",
        "outputId": "c00fcc08-3acb-4955-b219-c8d81ab6a0c5"
      },
      "execution_count": 15,
      "outputs": [
        {
          "output_type": "stream",
          "name": "stdout",
          "text": [
            "Código do produto: 2\n",
            "Quantidade: 2\n",
            "Produto encontrado: X- salada\n",
            "Valor: 4.5\n",
            "Total: 9.0\n"
          ]
        }
      ]
    },
    {
      "cell_type": "markdown",
      "source": [
        "**Exercício 4**"
      ],
      "metadata": {
        "id": "ve37VUkU7U4Z"
      }
    },
    {
      "cell_type": "code",
      "source": [
        "a = float(input(\"Informe o valor de A: \"))\n",
        "b = float(input(\"Informe o valor de B: \"))\n",
        "c = float(input(\"Informe o valor de C: \"))\n",
        "delta = b*b - 4*a*c\n",
        "\n",
        "\n",
        "if delta < 0 or a == 0:\n",
        "  print(\"Impossível calcular\")\n",
        "else:\n",
        "  x1 = (-b + delta**0.5)/(2*a)\n",
        "  x2 = (-b - delta**0.5)/(2*a)\n",
        "  print(f'{x1:.5f}')\n",
        "  print(f'{x2:.5f}')"
      ],
      "metadata": {
        "colab": {
          "base_uri": "https://localhost:8080/"
        },
        "id": "qX0LBaJM7ZZ_",
        "outputId": "bc35f733-6cc2-40c3-eaec-3259e25b4984"
      },
      "execution_count": 35,
      "outputs": [
        {
          "output_type": "stream",
          "name": "stdout",
          "text": [
            "Informe o valor de A: 10\n",
            "Informe o valor de B: 3\n",
            "Informe o valor de C: 5\n",
            "Impossível calcular\n"
          ]
        }
      ]
    },
    {
      "cell_type": "markdown",
      "source": [
        "**Exercício 5**"
      ],
      "metadata": {
        "id": "KRimsfI-E4Vx"
      }
    },
    {
      "cell_type": "code",
      "source": [
        "senha_correta = \"2002\"\n",
        "senha_usuario = input(\"Informe a senha (somente números): \")\n",
        "\n",
        "while senha_usuario != senha_correta:\n",
        "  print(\"Senha incorreta\")\n",
        "  senha_usuario = input(\"Informe a senha (somente números): \")\n",
        "print(\"Acesso permitido\")\n"
      ],
      "metadata": {
        "colab": {
          "base_uri": "https://localhost:8080/"
        },
        "id": "yIPKb7yIE6nL",
        "outputId": "00a87a1c-ec24-46bc-aacf-f8e987b0a8a0"
      },
      "execution_count": 38,
      "outputs": [
        {
          "output_type": "stream",
          "name": "stdout",
          "text": [
            "Informe a senha (somente números): 2002\n",
            "Acesso permitido\n"
          ]
        }
      ]
    },
    {
      "cell_type": "markdown",
      "source": [
        "**Exercício 6**"
      ],
      "metadata": {
        "id": "_4tiO2pOF4Ek"
      }
    },
    {
      "cell_type": "code",
      "source": [
        "N = int(input())  # Lê a quantidade de valores a serem lidos\n",
        "\n",
        "dentro = 0  # Contador para valores dentro do intervalo\n",
        "fora = 0  # Contador para valores fora do intervalo\n",
        "\n",
        "for _ in range(N):  # Loop para ler os N valores\n",
        "    X = int(input())\n",
        "    if 10 <= X <= 20:\n",
        "        dentro += 1\n",
        "    else:\n",
        "        fora += 1\n",
        "\n",
        "print(f\"{dentro} in\")\n",
        "print(f\"{fora} out\")"
      ],
      "metadata": {
        "colab": {
          "base_uri": "https://localhost:8080/"
        },
        "id": "2wPfrbpGF5th",
        "outputId": "48033952-085c-4e3a-9541-2cc3523e2012"
      },
      "execution_count": 2,
      "outputs": [
        {
          "output_type": "stream",
          "name": "stdout",
          "text": [
            "2\n",
            "10\n",
            "20\n",
            "2 in\n",
            "0 out\n"
          ]
        }
      ]
    }
  ]
}